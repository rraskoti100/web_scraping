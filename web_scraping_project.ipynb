{
 "cells": [
  {
   "cell_type": "code",
   "execution_count": 2,
   "metadata": {},
   "outputs": [],
   "source": [
    "from bs4 import BeautifulSoup\n",
    "import requests\n",
    "import csv\n",
    "import re"
   ]
  },
  {
   "cell_type": "code",
   "execution_count": 3,
   "metadata": {},
   "outputs": [],
   "source": [
    "req = requests.get(\"https://www.fasttrack.co.uk/\")\n",
    "#print(req.status_code)"
   ]
  },
  {
   "cell_type": "code",
   "execution_count": 4,
   "metadata": {},
   "outputs": [],
   "source": [
    "soup = BeautifulSoup(req.content, 'lxml')"
   ]
  },
  {
   "cell_type": "code",
   "execution_count": 5,
   "metadata": {},
   "outputs": [],
   "source": [
    "data = soup.find_all(class_ = 'menu-dropdown')"
   ]
  },
  {
   "cell_type": "code",
   "execution_count": 6,
   "metadata": {},
   "outputs": [],
   "source": [
    "info = soup.findAll(\"a\", href=re.compile(\"top-track-100\"))"
   ]
  },
  {
   "cell_type": "code",
   "execution_count": 7,
   "metadata": {},
   "outputs": [
    {
     "name": "stdout",
     "output_type": "stream",
     "text": [
      "<a href=\"https://www.fasttrack.co.uk/league-tables/top-track-100/league-table/\">\n",
      "                                                    League table</a>\n"
     ]
    }
   ],
   "source": [
    "print(info[2])"
   ]
  },
  {
   "cell_type": "code",
   "execution_count": 8,
   "metadata": {},
   "outputs": [
    {
     "name": "stdout",
     "output_type": "stream",
     "text": [
      "https://www.fasttrack.co.uk/league-tables/top-track-100/league-table/\n"
     ]
    }
   ],
   "source": [
    "required_url = info[2].get('href')\n",
    "print(required_url)"
   ]
  },
  {
   "cell_type": "code",
   "execution_count": 8,
   "metadata": {},
   "outputs": [],
   "source": [
    "req2 = requests.get(required_url)\n",
    "#print(req2.status_code)"
   ]
  },
  {
   "cell_type": "code",
   "execution_count": 9,
   "metadata": {},
   "outputs": [],
   "source": [
    "soup2 = BeautifulSoup(req2.content, 'lxml')"
   ]
  },
  {
   "cell_type": "code",
   "execution_count": 10,
   "metadata": {},
   "outputs": [],
   "source": [
    "Table_info = soup2.find_all('table', class_ = 'tableSorter2')"
   ]
  },
  {
   "cell_type": "code",
   "execution_count": 11,
   "metadata": {},
   "outputs": [],
   "source": [
    "Table_info = Table_info[0]"
   ]
  },
  {
   "cell_type": "code",
   "execution_count": 22,
   "metadata": {},
   "outputs": [],
   "source": [
    "file = open(\"myTableTop100.csv\", \"w\", encoding = 'utf8')\n",
    "csv_write = csv.writer(file)"
   ]
  },
  {
   "cell_type": "code",
   "execution_count": 23,
   "metadata": {},
   "outputs": [
    {
     "name": "stdout",
     "output_type": "stream",
     "text": [
      "Inserting headers: Rank,Company,Location,Year end,Sales £m,% annual growth,Profit £m,Staff,Main shareholders\n",
      "Inserting data: 1,INEOS,Switzerland / UK,Dec 18,25,000,n/a,4,400,22,000,Sir Jim Ratcliffe (60%), John Reece (20%), Andy Currie (20%)\n",
      "Inserting data: 2,EG Group,Blackburn,Dec 19,17,604,65.8,792,34,680,Issa family (50%), TDR Capital (50%)\n",
      "Inserting data: 3,Greenergy,Central London,Dec 19,15,925,-5.4,138,1,130,Brookfield Business Partners (85%), management (15%)\n",
      "Inserting data: 4,Swire,Central London,Dec 18,10,580,1.2,1,724,92,256,Swire family (67%), others (33%)\n",
      "Inserting data: 5,John Lewis Partnership,Central London,Jan 20,10,151,-1.6,888,80,700,Employees (100%)\n",
      "Inserting data: 6,Pentland Group,North London,Dec 18,5,056,38.9,509,29,496,Rubin family (100%)\n",
      "Inserting data: 7,Arnold Clark,Glasgow,Dec 19,4,463,5.3,315,12,865,Clark family and trusts (100%)\n",
      "Inserting data: 8,MFG,St Albans,Dec 19,4,442,31.5,246,546,Clayton, Dubilier & Rice (>50%), management including Alasdair Locke (<50%)\n",
      "Inserting data: 9,Dyson,Singapore / UK,Dec 18,4,401,24.5,967,11,774,Sir James Dyson and family (100%)\n",
      "Inserting data: 10,JCB,Staffordshire,Dec 18,4,119,22.8,376,11,508,Bamford family interests (100%)\n",
      "Inserting data: 11,Bestway Group,West London,Jun 19,3,448,6.9,355,29,172,Sir Anwar Pervez and family (88%), management (12%)\n",
      "Inserting data: 12,Iceland,North Wales,Mar 19,3,085,4.2,137,15,800,Sir Malcolm Walker, Tarsem Dhaliwal, other management (100%)\n",
      "Inserting data: 13,Heathrow,West London,Dec 19,3,070,3.4,1,923,7,973,Ferrovial (25%), Qatar Investment Authority (20%), CDPQ (13%), GIC (11%), Alinda (11%), others (20%)\n",
      "Inserting data: 14,bet365,Stoke-on-Trent,Mar 19,†3,006,5.2,†798,4,708,Coates family (93%), Will Roseff (7%)\n",
      "Inserting data: 15,Specsavers,Guernsey,Feb 20,2,920,5.0,n/a,37,000,Perkins family and joint venture partners (100%)\n",
      "Inserting data: 16,EMR,Warrington,Dec 19,2,915,-13.5,70,3,449,Sheppard family (100%)\n",
      "Inserting data: 17,Prax Group,Central London,Feb 19,2,914,52.1,14,950,Sanjeev Kumar Soosaipillai (50%), Arani Kumar Soosaipillai (50%)\n",
      "Inserting data: 18,Westcoast,Reading,Dec 19,2,799,13.6,34,1,458,Joe Hemani (100%)\n",
      "Inserting data: 19,Virgin Atlantic,Crawley,Dec 18,2,781,5.8,96,8,571,Virgin Group (51%), Delta Air Lines (49%)\n",
      "Inserting data: 20,Rigby Group,Stratford-upon-Avon,Mar 19,2,772,16.8,65,8,138,Sir Peter Rigby (60%), family trusts (40%)\n",
      "Inserting data: 21,Laing O’Rourke,Dartford,Mar 19,2,753,-0.2,78,12,685,Ray O’Rourke and Des O’Rourke through Suffolk Partners Corporation (100%)\n",
      "Inserting data: 22,2 Sisters Food Group,Birmingham,Jul 19,2,741,-17.9,92,20,746,Baljinder and Ranjit Boparan (100%)\n",
      "Inserting data: 23,Marshall Group,Cambridge,Dec 19,2,638,6.2,59,6,365,The Marshall family & family trusts (75%), others (25%)\n",
      "Inserting data: 24,Radius Payment Solutions,Crewe,Mar 20,2,609,4.8,87,1,559,Bill Holmes (44%), Inflexion Private Equity (24%), Roy Sciortino (11%), other management (21%)\n",
      "Inserting data: 25,ISG,Central London,Dec 19,2,584,15.5,65,3,053,Cathexis (100%)\n",
      "Inserting data: 26,Home Bargains,Liverpool,Jun 19,2,471,15.3,275,22,816,Tom Morris and family settlement (100%)\n",
      "Inserting data: 27,Mace,Central London,Dec 18,2,350,19.2,32,5,376,Mark Reynolds (34%), Stephen Pycroft (14%), Gareth Lewis (13%), other management (39%)\n",
      "Inserting data: 28,Rubix,Central London,Dec 19,2,113,4.3,198,8,364,Advent International (>50%), management (<50%)\n",
      "Inserting data: 29,Thames Water (Kemble),Reading,Mar 19,2,085,1.9,1,058,6,068,OMERS (32%), USS (11%), ADIA (10%), KIA (9%), others (38%)\n",
      "Inserting data: 30,Cobham,Dorset,Dec 19,2,060,10.5,272,10,185,Advent International (100%)\n",
      "Inserting data: 31,Pension Insurance Corporation,Central London,Dec 19,2,000,9.8,455,231,Reinet Investments, CVC Capital Partners, Luxinva\n",
      "Inserting data: 32,The Very Group,Liverpool,Jun 19,1,993,1.8,271,3,688,Sir David Barclay and Sir Frederick Barclay family settlements (100%)\n",
      "Inserting data: 33,Chrysaor,Central London,Dec 19,1,852,25.7,1,314,563,EIG Global Energy Partners (90%), others, including management (10%)\n",
      "Inserting data: 34,Arcadia,Central London,Sep 18,†1,784,-6.3,†142,21,616,Lady Tina Green and family, other shareholders\n",
      "Inserting data: 35,Mott MacDonald,Croydon,Dec 19,1,784,10.1,75,15,297,Employees (92%), trust (8%)\n",
      "Inserting data: 36,Merlin Entertainments,Poole,Dec 19,1,740,5.3,569,21,302,KIRKBI Invest A/S, Blackstone, CPPIB, management\n",
      "Inserting data: 37,Neptune Energy,Central London,Dec 19,1,726,68.9,1,173,1,458,China Investment Corporation (49%), Carlyle Group (30.6%), CVC Capital Partners (20.4%)\n",
      "Inserting data: 38,Arup,Central London,Mar 19,1,715,9.9,165,14,840,Employees through trusts (100%)\n",
      "Inserting data: 39,Bloor Investments,Derbyshire,Jun 19,1,696,12.0,233,3,867,John Bloor (100%)\n",
      "Inserting data: 40,Wates,Leatherhead,Dec 19,1,548,3.2,34,3,824,Wates family (100%)\n",
      "Inserting data: 41,Healthcare at Home,Burton upon Trent,Oct 19,1,541,-18.7,22,1,552,Vitruvian Partners (73%), Erebus Holdings (17%), management (10%)\n",
      "Inserting data: 42,McLaren Group,Woking,Dec 19,1,486,18.3,177,4,469,Bahrain Mumtalakat Holding Co (57.8%), TAG Group (14.7%), Michael Latifi (7.7%), others (19.9%)\n",
      "Inserting data: 43,Clarks,Somerset,Feb 19,1,469,-2.8,81,11,760,Clark family (85%), employees and institutions (15%)\n",
      "Inserting data: 44,Wilko,Nottinghamshire,Feb 20,1,468,-5.7,49,10,974,Wilkinson family (100%)\n",
      "Inserting data: 45,Finastra,Central London,May 19,1,449,3.4,n/a,9,063,Vista Equity Partners (100%)\n",
      "Inserting data: 46,Anglian Water Group,Huntingdon,Mar 19,1,391,-0.7,730,4,987,CPPIB (32.9%), IFM Investors (19.8%), ADIA (16.7%), CFSGAM (15.6%), Camulodunum (15%)\n",
      "Inserting data: 47,Willmott Dixon,Hertfordshire,Dec 19,1,370,-6.3,29,3,154,Family & management (100%)\n",
      "Inserting data: 48,W&R Barnett,Belfast,Jul 19,1,355,10.1,69,1,613,Robert Barnett and family (100%)\n",
      "Inserting data: 49,William Grant & Sons,Banffshire,Dec 18,1,326,11.6,369,2,626,Grant and Gordon families\n",
      "Inserting data: 50,NES Global Talent,Altrincham,Oct 19,1,321,57.2,71,956,AEA Investors (>40%), management (<50%), Akastor (>10%)\n",
      "Inserting data: 51,Rontec,Watford,Sep 19,1,292,3.3,46,117,Ronson Family Trusts / Charitable Foundation (100%)\n",
      "Inserting data: 52,JCT600,Bradford,Dec 18,1,277,2.0,31,2,239,Jack Tordoff (100%)\n",
      "Inserting data: 53,New Look,Weymouth,Mar 19,1,221,-5.3,69,15,528,Alcentra, Brait, CQS, Avenue\n",
      "Inserting data: 54,Listers,Stratford-upon-Avon,Mar 20,1,207,-1.9,17,2,331,Bradshaw family (50%), Lister family (50%)\n",
      "Inserting data: 55,Menzies Distribution,Edinburgh,Dec 19,1,186,26.6,36,3,579,Endless Private Equity (90%), management (10%)\n",
      "Inserting data: 56,M Group Services,Stevenage,Mar 20,1,173,-0.1,65,9,100,PAI Partners (85%), management (15%)\n",
      "Inserting data: 57,Greenhous Group,Telford,Dec 19,1,170,5.5,10,1,436,Derek Passant (52%), Kerry Finnon (46%), Mike Pawson (2%)\n",
      "Inserting data: 58,Lamex Food Group,Hertfordshire,Mar 20,1,166,-0.4,26,470,Phil Wallace & family trusts (24%), Steve Anderson (24%), Colin Dicker & family trusts (16%), others (36%)\n",
      "Inserting data: 59,THG,Manchester,Dec 19,1,140,24.5,111,4,926,Matt & Jodie Moulding (20%), management (6%), institutional investors (67%), others (7%)\n",
      "Inserting data: 60,A.F. Blakemore & Son,West Midlands,Apr 19,1,136,-9.6,27,7,493,Blakemore family (100%)\n",
      "Inserting data: 61,Paysafe,East London,Dec 19,1,112,29.8,373,3,394,Blackstone, CVC, management\n",
      "Inserting data: 62,Matalan,Liverpool,Feb 20,†1,108,0.4,†180,12,853,Hargreaves family (100%)\n",
      "Inserting data: 63,Inmarsat,Central London,Dec 19,1,094,-0.4,587,1,906,Apax (25%), Warburg Pincus (25%), CPPIB (25%), Ontario Teachers’ Pension Plan Board (25%)\n",
      "Inserting data: 64,Reed Global,Central London,Jun 19,1,071,0.4,16,3,281,Reed family and Reed Foundation (100%)\n",
      "Inserting data: 65,Yorkshire Water (Kelda),Bradford,Mar 19,1,064,5.0,576,3,800,GIC (34%), Corsair Infrastructure (30%), Pan-European Infrastructure Fund (23%), SAS Trustee Corp (13%)\n",
      "Inserting data: 66,Samworth Brothers,Leicestershire,Dec 18,1,064,-1.5,58,9,300,Samworth family trusts (100%)\n",
      "Inserting data: 67,KCA DEUTAG Group,Aberdeen,Dec 19,1,063,12.3,234,8,249,Pamplona Capital, Al Qahtani Investments, BlackRock, Golden Tree, EIG Partners, other funds\n",
      "Inserting data: 68,Bourne Leisure,Hemel Hempstead,Dec 18,1,058,2.2,251,14,028,Family of Peter Harris, families of the late John Cook and David Allen, management\n",
      "Inserting data: 69,Nando’s,Southwest London,Feb 19,1,051,8.4,144,21,145,Dick Enthoven and family through Yellowwoods Investment Group (100%)\n",
      "Inserting data: 70,OVO Energy,Bristol,Dec 18,1,042,25.0,-59,2,110,Stephen Fitzpatrick (66%), Mitsubishi Corporation (20%), Mayfair Private Equity (11%), management (3%)\n",
      "Inserting data: 71,Harrods Group,Central London,Feb 19,1,024,0.6,319,4,519,Qatar Holding (100%)\n",
      "Inserting data: 72,Collinson,Central London,Apr 19,1,014,24.2,45,2,082,Colin Evans (100%)\n",
      "Inserting data: 73,Arqiva,Winchester,Jun 19,1,000,2.4,534,2,012,Canada Pension Plan Investment Board (48%), Macquarie (25%), other investors (27%)\n",
      "Inserting data: 74,LCC Group,County Tyrone,Sep 18,991,16.2,23,256,Loughran family (100%)\n",
      "Inserting data: 75,Stoneacre Motor Group,Doncaster,Apr 19,982,24.9,20,2,709,Richard Teatum (51%), Christine Teatum (49%)\n",
      "Inserting data: 76,City Facilities Management,Glasgow,Dec 18,971,18.2,24,12,217,Haughey family (99%), others (1%)\n",
      "Inserting data: 77,OCS Group,Crawley,Dec 18,961,-6.2,31,79,117,Goodliffe family (100%)\n",
      "Inserting data: 78,Rothesay Life,Central London,Dec 19,958,165.4,730,252,Blackstone (36%), GIC (36%), MassMutual (26%), management & staff (3%)\n",
      "Inserting data: 79,Morson,Manchester,Dec 19,950,9.6,31,2,100,Ged Mason and family (80%), Paul Gilmour (7%), Kevin Gorton (7%), others (6%)\n",
      "Inserting data: 80,Bowmer + Kirkland,Derbyshire,Aug 18,938,1.0,62,1,489,Kirkland family and family trusts\n",
      "Inserting data: 81,WSH,Reading,Dec 19,933,6.3,76,17,980,Clayton, Dubilier & Rice, Alastair Storey and management\n",
      "Inserting data: 82,The Range,Plymouth,Feb 19,†925,6.4,†101,10,089,Sarah Dawson and family (100%)\n",
      "Inserting data: 83,River Island,West London,Dec 18,920,-2.6,67,10,219,Bernard Lewis and family (100%)\n",
      "Inserting data: 84,Henderson Group,County Antrim,Dec 19,918,7.6,48,3,872,Geoffrey Agnew (12%), Martin Agnew (12%), Ardbarron Trust (76%)\n",
      "Inserting data: 85,Pertemps Network Group,Warwickshire,Dec 18,896,11.3,21,1,800,Management and employees (42%), Tim Watts (31%), LDC (27%)\n",
      "Inserting data: 86,AMC Group,Central London,Dec 19,889,-1.6,22,690,Harold Sher (26%), Giles Robbins (11%), Charles Rowan (11%), others (52%)\n",
      "Inserting data: 87,Sir Robert McAlpine,Hemel Hempstead,Oct 18,871,-7.6,31,2,182,McAlpine family (100%)\n",
      "Inserting data: 88,Stonegate Pub Company,Luton,Sep 19,853,12.2,128,14,419,TDR Capital (100%)\n",
      "Inserting data: 89,Vue International,West London,Nov 19,848,6.0,120,10,348,Special purpose vehicles for OMERS and AIMCo (74.2%), management (25.8%)\n",
      "Inserting data: 90,Miller Homes,Edinburgh,Dec 19,841,12.6,167,1,009,Bridgepoint (>50%), other shareholders & management (<50%)\n",
      "Inserting data: 91,Bibby Line Group,Liverpool,Dec 18,822,-18.1,9,4,295,Sir Michael Bibby and family (89%), management and others (11%)\n",
      "Inserting data: 92,John Clark Motor Group,Aberdeen,Dec 19,821,-0.3,12,1,348,John Clark and family (100%)\n",
      "Inserting data: 93,Trailfinders,West London,Feb 19,814,2.3,31,1,106,Mike Gooley (100%)\n",
      "Inserting data: 94,Domestic & General,Wimbledon,Mar 19,810,5.2,103,2,968,CVC Capital Partners (>50%), ADIA (30%), management (<20%)\n",
      "Inserting data: 95,Fircroft,Warrington,Aug 18,804,9.8,10,735,Johnson family and management (66%), Equistone Partners (34%)\n",
      "Inserting data: 96,Park’s Motor Group,Lanarkshire,Mar 19,797,4.8,21,1,957,Douglas Park and family (100%)\n",
      "Inserting data: 97,Dhamecha Foods,Wembley,Mar 19,794,5.4,14,633,Dhamecha family (100%)\n",
      "Inserting data: 98,Moto,Bedfordshire,Dec 19,781,-1.6,105,5,314,Universities Superannuation Scheme (60%), CVC (40%)\n",
      "Inserting data: 99,Edrington,Glasgow,Mar 20,780,6.8,261,2,526,The Robertson Trust (71%), employees, former employees (19%), Suntory Holdings (10%)\n",
      "Inserting data: 100,Peel Ports Group,Liverpool,Mar 19,760,6.0,256,2,957,John Whittaker and family (50.1%), DWS Group (49.9%)\n"
     ]
    }
   ],
   "source": [
    "for row in Table_info.find_all('tr'):\n",
    "    data = []\n",
    "    for heading in row.find_all('th'):\n",
    "        data.append(heading.text)\n",
    "    if data:\n",
    "        csv_write.writerow(data)\n",
    "        continue\n",
    "    for td in row.find_all('td'):\n",
    "        if td.a:\n",
    "            data.append(td.a.text.strip().replace('*',\"\").replace('**',\"\").replace('†',\"\"))\n",
    "        else:\n",
    "            data.append(td.text.strip().replace('*',\"\").replace('**',\"\").replace('†',\"\"))\n",
    "    if data:\n",
    "        csv_write.writerow(data)  "
   ]
  },
  {
   "cell_type": "code",
   "execution_count": null,
   "metadata": {},
   "outputs": [],
   "source": []
  },
  {
   "cell_type": "code",
   "execution_count": null,
   "metadata": {},
   "outputs": [],
   "source": []
  }
 ],
 "metadata": {
  "kernelspec": {
   "display_name": "Python 3",
   "language": "python",
   "name": "python3"
  },
  "language_info": {
   "codemirror_mode": {
    "name": "ipython",
    "version": 3
   },
   "file_extension": ".py",
   "mimetype": "text/x-python",
   "name": "python",
   "nbconvert_exporter": "python",
   "pygments_lexer": "ipython3",
   "version": "3.7.3"
  }
 },
 "nbformat": 4,
 "nbformat_minor": 4
}
