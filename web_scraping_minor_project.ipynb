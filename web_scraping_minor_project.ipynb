{
 "cells": [
  {
   "cell_type": "code",
   "execution_count": 1,
   "metadata": {},
   "outputs": [],
   "source": [
    "from bs4 import BeautifulSoup\n",
    "import requests\n",
    "import csv"
   ]
  },
  {
   "cell_type": "code",
   "execution_count": 2,
   "metadata": {},
   "outputs": [
    {
     "name": "stdout",
     "output_type": "stream",
     "text": [
      "200\n"
     ]
    }
   ],
   "source": [
    "req = requests.get(\"https://www.fasttrack.co.uk/league-tables/top-track-100/league-table/\")\n",
    "print(req.status_code)"
   ]
  },
  {
   "cell_type": "code",
   "execution_count": 3,
   "metadata": {},
   "outputs": [],
   "source": [
    "soup = BeautifulSoup(req.content, 'lxml')"
   ]
  },
  {
   "cell_type": "code",
   "execution_count": 4,
   "metadata": {},
   "outputs": [],
   "source": [
    "Table_info = soup.find_all('table', class_ = 'tableSorter2')"
   ]
  },
  {
   "cell_type": "code",
   "execution_count": 5,
   "metadata": {},
   "outputs": [],
   "source": [
    "Table_info = Table_info[0]"
   ]
  },
  {
   "cell_type": "code",
   "execution_count": 8,
   "metadata": {},
   "outputs": [],
   "source": [
    "file = open(\"TableTopFastTrack100.csv\", \"w\", encoding = 'utf8')\n",
    "csv_write = csv.writer(file)"
   ]
  },
  {
   "cell_type": "code",
   "execution_count": 9,
   "metadata": {},
   "outputs": [],
   "source": [
    "for row in Table_info.find_all('tr'):\n",
    "    data = []\n",
    "    for heading in row.find_all('th'):\n",
    "        data.append(heading.text)\n",
    "    if data:\n",
    "        csv_write.writerow(data)\n",
    "        continue\n",
    "    for td in row.find_all('td'):\n",
    "        if td.a:\n",
    "            data.append(td.a.text.strip().replace('*',\"\").replace('**',\"\").replace('†',\"\"))\n",
    "        else:\n",
    "            data.append(td.text.strip().replace('*',\"\").replace('**',\"\").replace('†',\"\"))\n",
    "    if data:\n",
    "        csv_write.writerow(data)  "
   ]
  }
 ],
 "metadata": {
  "kernelspec": {
   "display_name": "Python 3",
   "language": "python",
   "name": "python3"
  },
  "language_info": {
   "codemirror_mode": {
    "name": "ipython",
    "version": 3
   },
   "file_extension": ".py",
   "mimetype": "text/x-python",
   "name": "python",
   "nbconvert_exporter": "python",
   "pygments_lexer": "ipython3",
   "version": "3.7.3"
  }
 },
 "nbformat": 4,
 "nbformat_minor": 4
}
